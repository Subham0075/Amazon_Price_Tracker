{
  "nbformat": 4,
  "nbformat_minor": 0,
  "metadata": {
    "colab": {
      "provenance": [],
      "authorship_tag": "ABX9TyM6pHT8kcwQwMlT29wDXrJa",
      "include_colab_link": true
    },
    "kernelspec": {
      "name": "python3",
      "display_name": "Python 3"
    },
    "language_info": {
      "name": "python"
    }
  },
  "cells": [
    {
      "cell_type": "markdown",
      "metadata": {
        "id": "view-in-github",
        "colab_type": "text"
      },
      "source": [
        "<a href=\"https://colab.research.google.com/github/Subham0075/Amazon_Price_Tracker/blob/main/Amazon_Price_Tracker.ipynb\" target=\"_parent\"><img src=\"https://colab.research.google.com/assets/colab-badge.svg\" alt=\"Open In Colab\"/></a>"
      ]
    },
    {
      "cell_type": "code",
      "execution_count": null,
      "metadata": {
        "id": "U-OXzq1ljaQb"
      },
      "outputs": [],
      "source": [
        "import smtplib\n",
        "import requests\n",
        "import lxml\n",
        "from bs4 import BeautifulSoup\n",
        "\n",
        "MY_EMAIL = \"subhampattnaik82@gmail.com\"\n",
        "MY_PASSWORD = \"**** **** **** ****\"\n",
        "\n",
        "url = \"https://www.amazon.com/dp/B075CYMYK6?psc=1&ref_=cm_sw_r_cp_ud_ct_FM9M699VKHTT47YD50Q6\"\n",
        "header = {\n",
        "    \"User-Agent\": \"Mozilla/5.0 (Windows NT 10.0; Win64; x64) AppleWebKit/537.36 (KHTML, like Gecko) Chrome/121.0.0.0 Safari/537.36\",\n",
        "    \"Accept-Language\": \"en-IN,en-GB;q=0.9,en-US;q=0.8,en;q=0.7,hi;q=0.6\"\n",
        "}\n",
        "\n",
        "BUY_PRICE = 1400\n",
        "\n",
        "response = requests.get(url, headers=header)\n",
        "\n",
        "soup = BeautifulSoup(response.content, \"lxml\")\n",
        "title = soup.find(id=\"productTitle\").get_text().strip()\n",
        "# print(soup.prettify())\n",
        "\n",
        "price = soup.find(class_=\"a-offscreen\").get_text()\n",
        "price_without_currency = price.split(\"$\")[1]\n",
        "price_as_float = float(price_without_currency)\n",
        "# print(price_as_int)\n",
        "\n",
        "if price_as_float < BUY_PRICE:\n",
        "    message = f\"{title} is now {price_as_float}\"\n",
        "\n",
        "    with smtplib.SMTP(\"smtp.gmail.com\", 587) as connection:\n",
        "        connection.starttls()\n",
        "        connection.login(MY_EMAIL, MY_PASSWORD)\n",
        "        connection.sendmail(\n",
        "            from_addr=MY_EMAIL,\n",
        "            to_addrs=MY_EMAIL,\n",
        "            msg=f\"Subject:Amazon Price Alert!\\n\\n{message}\\n{url}\".encode(\"utf-8\")\n",
        "        )"
      ]
    }
  ]
}